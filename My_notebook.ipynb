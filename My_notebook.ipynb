{
  "metadata": {
    "kernelspec": {
      "name": "python",
      "display_name": "Pyolite",
      "language": "python"
    },
    "language_info": {
      "codemirror_mode": {
        "name": "python",
        "version": 3
      },
      "file_extension": ".py",
      "mimetype": "text/x-python",
      "name": "python",
      "nbconvert_exporter": "python",
      "pygments_lexer": "ipython3",
      "version": "3.8"
    }
  },
  "nbformat_minor": 4,
  "nbformat": 4,
  "cells": [
    {
      "cell_type": "markdown",
      "source": "<center>\n    <img src=\"https://s3-api.us-geo.objectstorage.softlayer.net/cf-courses-data/CognitiveClass/Logos/organization_logo/organization_logo.png\" width=\"300\" alt=\"cognitiveclass.ai logo\"  />\n</center>\n",
      "metadata": {}
    },
    {
      "cell_type": "markdown",
      "source": "# My Jupyter Notebook on IBM Watson Studio",
      "metadata": {}
    },
    {
      "cell_type": "markdown",
      "source": "**Katarzyna**\n\nTeam leader",
      "metadata": {}
    },
    {
      "cell_type": "markdown",
      "source": "*I am interested in data sience because I enjoy digging into data*",
      "metadata": {}
    },
    {
      "cell_type": "markdown",
      "source": "### Code will show sum of two numbers",
      "metadata": {}
    },
    {
      "cell_type": "code",
      "source": "235+532",
      "metadata": {
        "trusted": true
      },
      "execution_count": 5,
      "outputs": [
        {
          "execution_count": 5,
          "output_type": "execute_result",
          "data": {
            "text/plain": "767"
          },
          "metadata": {}
        }
      ]
    },
    {
      "cell_type": "markdown",
      "source": "1. First ordered list item\n2. Another item\n\n[Check reddit]: http://www.reddit.com\n\n|1|2|3|\n|--|--|--|\n|one|*two*|`three`|\n\n> Using blockquotes just to test it\n\nYou\n___\n\nAre\n\n***\n\nAlmost\n\n----\n\nThere ;)",
      "metadata": {}
    }
  ]
}